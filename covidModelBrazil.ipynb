{
 "cells": [
  {
   "cell_type": "code",
   "execution_count": 13,
   "id": "every-brighton",
   "metadata": {},
   "outputs": [],
   "source": [
    "import matplotlib.pyplot as plt\n",
    "import numpy as np\n",
    "import pandas as pd\n",
    "import os\n",
    "import seaborn as sns\n",
    "from sklearn.model_selection import GridSearchCV, RandomizedSearchCV\n",
    "from sklearn.metrics import classification_report, confusion_matrix\n",
    "from sklearn.metrics import accuracy_score, f1_score, precision_score, recall_score, roc_auc_score\n",
    "from tensorflow import keras\n",
    "from xgboost import XGBClassifier"
   ]
  },
  {
   "cell_type": "code",
   "execution_count": 14,
   "id": "essential-malpractice",
   "metadata": {},
   "outputs": [],
   "source": [
    "brazil_sars_df = pd.read_csv('SRAG_01-06.csv', sep=';')"
   ]
  },
  {
   "cell_type": "code",
   "execution_count": 15,
   "id": "attached-payroll",
   "metadata": {},
   "outputs": [],
   "source": [
    "idx = [12, 14, 15, 17, 18, 32, 33, 34, 35, 36, 37, 38, 39, 41, 43, 44, 45, 46, 47, 48, 49, 50, 51, 52, 53, 126]\n",
    "cols = ['Sex','Age', 'Age Type', 'Pregnant', 'Race', 'Fever', 'Cough', 'Throat infection', 'Breathing difficulty', 'Respiratory', 'Low oxygen levels', \n",
    "        'Diarrhea', 'Vomiting', 'Additional Symptoms', 'Cardiovascular', 'Hematologic (Blood Disease)', 'Down Syndrome', 'Liver disease', 'Asthma',\n",
    "        'Diabetes', 'Neurological', 'Pneumonia', 'Immunosuppression', 'Kidney disease', 'Obesity', 'COVID-19']"
   ]
  },
  {
   "cell_type": "code",
   "execution_count": 16,
   "id": "pending-pixel",
   "metadata": {},
   "outputs": [],
   "source": [
    "brazil_sars_df = brazil_sars_df.iloc[:, idx]\n",
    "brazil_sars_df.columns = cols"
   ]
  },
  {
   "cell_type": "code",
   "execution_count": 17,
   "id": "neural-knife",
   "metadata": {},
   "outputs": [],
   "source": [
    "brazil_sars_df['COVID-19'] = brazil_sars_df['COVID-19'] == 5.0\n",
    "brazil_sars_df['Age'].where(brazil_sars_df['Age Type'] == 3, inplace=True, other=1)\n",
    "del brazil_sars_df['Age Type']\n",
    "brazil_sars_df['Myalgia'] = brazil_sars_df['Additional Symptoms'] == \"MIALGIA\"\n",
    "brazil_sars_df['Headache'] = brazil_sars_df['Additional Symptoms'] == \"CEFALEIA\"\n",
    "del brazil_sars_df['Additional Symptoms']\n",
    "brazil_sars_df['Sex'].where(brazil_sars_df['Sex'] == 'I', inplace=True, other='M')\n",
    "brazil_sars_df['Male'] = brazil_sars_df['Sex'] == 'M'\n",
    "del brazil_sars_df['Sex']\n",
    "brazil_sars_df['Pregnant'].where(brazil_sars_df['Pregnant'] < 5, inplace=True, other=False)\n",
    "brazil_sars_df['Pregnant'] = brazil_sars_df['Pregnant'] != 0\n",
    "brazil_sars_df.iloc[:, 3:-4] = brazil_sars_df.iloc[:, 3:-4] == 1.\n",
    "brazil_sars_df['Race'].where(brazil_sars_df['Race'] != 9, inplace=True, other=2)\n",
    "brazil_sars_df['Race'].where(brazil_sars_df['Race'] != 5, inplace=True, other=4)\n",
    "brazil_sars_df['Race'].replace([1.,2.,3.,4.], [\"White\", \"Black\", \"Asian\", \"Hispanic/Latino\"], inplace=True)\n",
    "brazil_sars_df = pd.get_dummies(brazil_sars_df, drop_first=True)"
   ]
  },
  {
   "cell_type": "code",
   "execution_count": 18,
   "id": "ready-update",
   "metadata": {},
   "outputs": [
    {
     "name": "stdout",
     "output_type": "stream",
     "text": [
      "<class 'pandas.core.frame.DataFrame'>\n",
      "RangeIndex: 217925 entries, 0 to 217924\n",
      "Data columns (total 28 columns):\n",
      " #   Column                       Non-Null Count   Dtype\n",
      "---  ------                       --------------   -----\n",
      " 0   Age                          217925 non-null  int64\n",
      " 1   Pregnant                     217925 non-null  bool \n",
      " 2   Fever                        217925 non-null  bool \n",
      " 3   Cough                        217925 non-null  bool \n",
      " 4   Throat infection             217925 non-null  bool \n",
      " 5   Breathing difficulty         217925 non-null  bool \n",
      " 6   Respiratory                  217925 non-null  bool \n",
      " 7   Low oxygen levels            217925 non-null  bool \n",
      " 8   Diarrhea                     217925 non-null  bool \n",
      " 9   Vomiting                     217925 non-null  bool \n",
      " 10  Cardiovascular               217925 non-null  bool \n",
      " 11  Hematologic (Blood Disease)  217925 non-null  bool \n",
      " 12  Down Syndrome                217925 non-null  bool \n",
      " 13  Liver disease                217925 non-null  bool \n",
      " 14  Asthma                       217925 non-null  bool \n",
      " 15  Diabetes                     217925 non-null  bool \n",
      " 16  Neurological                 217925 non-null  bool \n",
      " 17  Pneumonia                    217925 non-null  bool \n",
      " 18  Immunosuppression            217925 non-null  bool \n",
      " 19  Kidney disease               217925 non-null  bool \n",
      " 20  Obesity                      217925 non-null  bool \n",
      " 21  COVID-19                     217925 non-null  bool \n",
      " 22  Myalgia                      217925 non-null  bool \n",
      " 23  Headache                     217925 non-null  bool \n",
      " 24  Male                         217925 non-null  bool \n",
      " 25  Race_Black                   217925 non-null  uint8\n",
      " 26  Race_Hispanic/Latino         217925 non-null  uint8\n",
      " 27  Race_White                   217925 non-null  uint8\n",
      "dtypes: bool(24), int64(1), uint8(3)\n",
      "memory usage: 7.3 MB\n"
     ]
    }
   ],
   "source": [
    "brazil_sars_df.info()"
   ]
  },
  {
   "cell_type": "code",
   "execution_count": 19,
   "id": "painful-blond",
   "metadata": {},
   "outputs": [],
   "source": [
    "def train_and_evaluate(clf, df, train=True):\n",
    "  X, y = brazil_sars_df.drop(['COVID-19'], axis=1), brazil_sars_df['COVID-19']\n",
    "  if train:\n",
    "    clf.fit(X, y)\n",
    "  y_pred = clf.predict(X)\n",
    "  print('Precision Score: {}%'.format(round(precision_score(y_pred, y) * 100, 2)))\n",
    "  print('Recall Score: {}%'.format(round(recall_score(y_pred, y) * 100, 2)))"
   ]
  },
  {
   "cell_type": "code",
   "execution_count": 21,
   "id": "equivalent-patient",
   "metadata": {},
   "outputs": [
    {
     "name": "stdout",
     "output_type": "stream",
     "text": [
      "Precision Score: 47.61%\n",
      "Recall Score: 64.27%\n"
     ]
    }
   ],
   "source": [
    "# KNN\n",
    "from sklearn.neighbors import KNeighborsClassifier\n",
    "brazil_rf = KNeighborsClassifier(n_neighbors = 3)\n",
    "train_and_evaluate(brazil_rf, brazil_sars_df)"
   ]
  },
  {
   "cell_type": "code",
   "execution_count": 23,
   "id": "documentary-logistics",
   "metadata": {},
   "outputs": [
    {
     "name": "stdout",
     "output_type": "stream",
     "text": [
      "Precision Score: 61.93%\n",
      "Recall Score: 80.3%\n"
     ]
    }
   ],
   "source": [
    "# Random forest\n",
    "from sklearn.ensemble import RandomForestClassifier\n",
    "brazil_rf = RandomForestClassifier(random_state=42, n_jobs=-1, n_estimators=300)\n",
    "train_and_evaluate(brazil_rf, brazil_sars_df)"
   ]
  },
  {
   "cell_type": "code",
   "execution_count": 26,
   "id": "incident-philadelphia",
   "metadata": {},
   "outputs": [
    {
     "name": "stdout",
     "output_type": "stream",
     "text": [
      "Precision Score: 4.25%\n",
      "Recall Score: 51.03%\n"
     ]
    }
   ],
   "source": [
    "# AdaBoost\n",
    "from sklearn.ensemble import AdaBoostClassifier\n",
    "brazil_rf = AdaBoostClassifier(n_estimators=100)\n",
    "train_and_evaluate(brazil_rf, brazil_sars_df)"
   ]
  },
  {
   "cell_type": "code",
   "execution_count": 30,
   "id": "coated-camel",
   "metadata": {},
   "outputs": [
    {
     "name": "stdout",
     "output_type": "stream",
     "text": [
      "Precision Score: 5.85%\n",
      "Recall Score: 54.57%\n"
     ]
    }
   ],
   "source": [
    "# MLPClassifier\n",
    "from sklearn.neural_network import MLPClassifier\n",
    "brazil_rf = MLPClassifier(random_state=42)\n",
    "train_and_evaluate(brazil_rf, brazil_sars_df)"
   ]
  }
 ],
 "metadata": {
  "kernelspec": {
   "display_name": "Python 3",
   "language": "python",
   "name": "python3"
  },
  "language_info": {
   "codemirror_mode": {
    "name": "ipython",
    "version": 3
   },
   "file_extension": ".py",
   "mimetype": "text/x-python",
   "name": "python",
   "nbconvert_exporter": "python",
   "pygments_lexer": "ipython3",
   "version": "3.9.4"
  }
 },
 "nbformat": 4,
 "nbformat_minor": 5
}
