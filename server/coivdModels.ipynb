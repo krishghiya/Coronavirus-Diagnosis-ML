{
 "cells": [
  {
   "cell_type": "code",
   "execution_count": 1,
   "id": "parallel-cowboy",
   "metadata": {},
   "outputs": [],
   "source": [
    "import matplotlib.pyplot as plt\n",
    "import numpy as np\n",
    "import pandas as pd\n",
    "import os\n",
    "import seaborn as sns\n",
    "from sklearn.metrics import classification_report, confusion_matrix\n",
    "from sklearn.metrics import accuracy_score, f1_score, precision_score, recall_score, roc_auc_score"
   ]
  },
  {
   "cell_type": "code",
   "execution_count": 2,
   "id": "threatened-castle",
   "metadata": {},
   "outputs": [],
   "source": [
    "mexico_df = pd.read_csv('covid.csv')"
   ]
  },
  {
   "cell_type": "code",
   "execution_count": 3,
   "id": "conditional-indonesian",
   "metadata": {},
   "outputs": [],
   "source": [
    "cols = ['sex', 'age', 'pneumonia', 'pregnancy', 'diabetes', 'copd', 'asthma', 'hypertension', 'inmsupr', 'other_disease', \n",
    "                       'cardiovascular', 'obesity', 'renal_chronic', 'tobacco', 'covid_res']\n",
    "mexico_df = mexico_df[cols]\n",
    "cols.remove('sex')\n",
    "cols.remove('age')\n",
    "mexico_df[cols] = mexico_df[mexico_df[cols] < 3][cols]\n",
    "mexico_df['pregnancy'] = mexico_df['pregnancy'].fillna(1)\n",
    "mexico_df.dropna(inplace=True)\n",
    "mexico_df[cols] = mexico_df[cols] == 1\n",
    "mexico_df['male'] = mexico_df['sex'] == 2\n",
    "del mexico_df['sex']\n",
    "mexico_df.rename(columns={'inmsupr': 'Immunosuppression',\n",
    "                          'renal_chronic': 'Kidney Disease',\n",
    "                          'copd': \"Breathing difficulty\",\n",
    "                          'other_disease': 'Other diseases',\n",
    "                          'pregnancy': 'Pregnant'}, inplace=True)\n",
    "mexico_df.columns = [s.capitalize() for s in mexico_df.columns]\n",
    "mexico_df.rename(columns={'Covid_res': 'COVID-19'}, inplace=True)"
   ]
  },
  {
   "cell_type": "code",
   "execution_count": 4,
   "id": "acquired-guess",
   "metadata": {},
   "outputs": [
    {
     "name": "stdout",
     "output_type": "stream",
     "text": [
      "<class 'pandas.core.frame.DataFrame'>\n",
      "Int64Index: 496291 entries, 0 to 499691\n",
      "Data columns (total 15 columns):\n",
      " #   Column                Non-Null Count   Dtype\n",
      "---  ------                --------------   -----\n",
      " 0   Age                   496291 non-null  int64\n",
      " 1   Pneumonia             496291 non-null  bool \n",
      " 2   Pregnant              496291 non-null  bool \n",
      " 3   Diabetes              496291 non-null  bool \n",
      " 4   Breathing difficulty  496291 non-null  bool \n",
      " 5   Asthma                496291 non-null  bool \n",
      " 6   Hypertension          496291 non-null  bool \n",
      " 7   Immunosuppression     496291 non-null  bool \n",
      " 8   Other diseases        496291 non-null  bool \n",
      " 9   Cardiovascular        496291 non-null  bool \n",
      " 10  Obesity               496291 non-null  bool \n",
      " 11  Kidney disease        496291 non-null  bool \n",
      " 12  Tobacco               496291 non-null  bool \n",
      " 13  COVID-19              496291 non-null  bool \n",
      " 14  Male                  496291 non-null  bool \n",
      "dtypes: bool(14), int64(1)\n",
      "memory usage: 14.2 MB\n"
     ]
    }
   ],
   "source": [
    "mexico_df.info()"
   ]
  },
  {
   "cell_type": "code",
   "execution_count": 5,
   "id": "clinical-wireless",
   "metadata": {},
   "outputs": [],
   "source": [
    "from sklearn.model_selection import train_test_split\n",
    "X_train, X_test, y_train, y_test = train_test_split(mexico_df.drop('COVID-19', axis=1), mexico_df['COVID-19'], test_size=0.1, random_state=42)"
   ]
  },
  {
   "cell_type": "code",
   "execution_count": 6,
   "id": "perceived-flood",
   "metadata": {},
   "outputs": [
    {
     "name": "stdout",
     "output_type": "stream",
     "text": [
      "How data is split\n",
      "-----------------\n",
      "X_test:  49630\n",
      "y_test:  49630\n",
      "X_train: 446661\n",
      "y_train: 446661\n"
     ]
    }
   ],
   "source": [
    "print(\"How data is split\")\n",
    "print(\"-----------------\")\n",
    "print(\"X_test: \", len(X_test))\n",
    "print(\"y_test: \", len(y_test))\n",
    "print(\"X_train:\", len(X_train))\n",
    "print(\"y_train:\", len(y_train))"
   ]
  },
  {
   "cell_type": "code",
   "execution_count": 7,
   "id": "interracial-young",
   "metadata": {},
   "outputs": [
    {
     "name": "stdout",
     "output_type": "stream",
     "text": [
      "Accuracy score: 0.6159379407616361\n",
      "F1 score: 0.44018913918176744\n",
      "-------------------------------------\n",
      "Precision score: 0.6224252491694352\n",
      "Recall(true positive) score: 0.3404970693807079\n",
      "ROC score: 0.5879560760538093\n",
      "Misclassified samples: 19061\n"
     ]
    }
   ],
   "source": [
    "#Random Forest\n",
    "from sklearn.ensemble import RandomForestClassifier\n",
    "model = RandomForestClassifier(n_estimators=100, random_state=42)\n",
    "model.fit(X_train, y_train)\n",
    "y_pred = model.predict(X_test)\n",
    "rf = accuracy_score(y_test, y_pred)\n",
    "rf2 = f1_score(y_test, y_pred)\n",
    "print('Accuracy score:', accuracy_score(y_test, y_pred))\n",
    "print('F1 score:', f1_score(y_test, y_pred))\n",
    "print('-------------------------------------')\n",
    "print('Precision score:', precision_score(y_test, y_pred))\n",
    "print('Recall(true positive) score:', recall_score(y_test, y_pred))\n",
    "print('ROC score:', roc_auc_score(y_test, y_pred))\n",
    "print('Misclassified samples: %d' % (y_test != y_pred).sum())"
   ]
  },
  {
   "cell_type": "code",
   "execution_count": 8,
   "id": "civilian-leisure",
   "metadata": {},
   "outputs": [
    {
     "name": "stdout",
     "output_type": "stream",
     "text": [
      "Accuracy score: 0.6160185371750957\n",
      "F1 score: 0.433821563326302\n",
      "Misclassified samples: 19057\n"
     ]
    }
   ],
   "source": [
    "# Decsion tree\n",
    "from sklearn.tree import DecisionTreeClassifier\n",
    "model = DecisionTreeClassifier()\n",
    "model.fit(X_train, y_train)\n",
    "y_pred = model.predict(X_test)\n",
    "dt = accuracy_score(y_test, y_pred)\n",
    "dt2 = f1_score(y_test, y_pred)\n",
    "print('Accuracy score:', accuracy_score(y_test, y_pred))\n",
    "print('F1 score:', f1_score(y_test, y_pred))\n",
    "print('Misclassified samples: %d' % (y_test != y_pred).sum())"
   ]
  },
  {
   "cell_type": "code",
   "execution_count": 9,
   "id": "swedish-brooks",
   "metadata": {},
   "outputs": [
    {
     "name": "stdout",
     "output_type": "stream",
     "text": [
      "Accuracy score: 0.5667338303445497\n",
      "F1 score: 0.4901723688266117\n",
      "Misclassified samples: 21503\n"
     ]
    }
   ],
   "source": [
    "# KNN\n",
    "from sklearn.neighbors import KNeighborsClassifier\n",
    "model = KNeighborsClassifier()\n",
    "#Fit the model\n",
    "model.fit(X_train, y_train)\n",
    "y_pred = model.predict(X_test)\n",
    "knn = accuracy_score(y_test, y_pred)\n",
    "knn2 = f1_score(y_test, y_pred)\n",
    "print('Accuracy score:', accuracy_score(y_test, y_pred))\n",
    "print('F1 score:', f1_score(y_test, y_pred))\n",
    "print('Misclassified samples: %d' % (y_test != y_pred).sum())"
   ]
  },
  {
   "cell_type": "code",
   "execution_count": 10,
   "id": "expired-taxation",
   "metadata": {},
   "outputs": [],
   "source": [
    "# SVC\n",
    "# from sklearn.svm import SVC\n",
    "# model = SVC()\n",
    "# model.fit(X_train, y_train)\n",
    "# y_pred = model.predict(X_test)\n",
    "# svm = accuracy_score(y_test, y_pred)\n",
    "# svm2 = f1_score(y_test, y_pred)\n",
    "# print('Accuracy score:', accuracy_score(y_test, y_pred))\n",
    "# print('F1 score:', f1_score(y_test, y_pred))\n",
    "# print('Precision score:', precision_score(y_test, y_pred))\n",
    "# print('Recall score:', recall_score(y_test, y_pred))\n",
    "# print('ROC score:', roc_auc_score(y_test, y_pred))\n",
    "# print('Misclassified samples: %d' % (y_test != y_pred).sum())"
   ]
  },
  {
   "cell_type": "code",
   "execution_count": 11,
   "id": "comparable-satisfaction",
   "metadata": {},
   "outputs": [
    {
     "name": "stdout",
     "output_type": "stream",
     "text": [
      "Accuracy score: 0.6241789240378803\n",
      "F1 score: 0.4443848674411677\n",
      "Misclassified samples: 18652\n"
     ]
    }
   ],
   "source": [
    "# XG Boost\n",
    "from sklearn.ensemble import GradientBoostingClassifier\n",
    "model = GradientBoostingClassifier()\n",
    "model.fit(X_train, y_train)\n",
    "y_pred = model.predict(X_test)\n",
    "gb = accuracy_score(y_test, y_pred)\n",
    "gb2 = f1_score(y_test, y_pred)\n",
    "print('Accuracy score:', accuracy_score(y_test, y_pred))\n",
    "print('F1 score:', f1_score(y_test, y_pred))\n",
    "print('Misclassified samples: %d' % (y_test != y_pred).sum())"
   ]
  },
  {
   "cell_type": "code",
   "execution_count": 12,
   "id": "opening-railway",
   "metadata": {},
   "outputs": [
    {
     "name": "stdout",
     "output_type": "stream",
     "text": [
      "Accuracy score: 0.6203102961918194\n",
      "F1 score: 0.44664356610089856\n",
      "Misclassified samples: 18844\n"
     ]
    },
    {
     "name": "stderr",
     "output_type": "stream",
     "text": [
      "/usr/local/lib/python3.9/site-packages/sklearn/linear_model/_logistic.py:763: ConvergenceWarning: lbfgs failed to converge (status=1):\n",
      "STOP: TOTAL NO. of ITERATIONS REACHED LIMIT.\n",
      "\n",
      "Increase the number of iterations (max_iter) or scale the data as shown in:\n",
      "    https://scikit-learn.org/stable/modules/preprocessing.html\n",
      "Please also refer to the documentation for alternative solver options:\n",
      "    https://scikit-learn.org/stable/modules/linear_model.html#logistic-regression\n",
      "  n_iter_i = _check_optimize_result(\n"
     ]
    }
   ],
   "source": [
    "# Logistic Regression\n",
    "from sklearn.linear_model import LogisticRegression\n",
    "model = LogisticRegression()\n",
    "#Fit the model\n",
    "model.fit(X_train, y_train)\n",
    "y_pred = model.predict(X_test)\n",
    "#Score/Accuracy\n",
    "acc_logreg=model.score(X_test, y_test)\n",
    "acc_logreg\n",
    "lr2 = f1_score(y_test, y_pred)\n",
    "print('Accuracy score:', accuracy_score(y_test, y_pred))\n",
    "print('F1 score:', f1_score(y_test, y_pred))\n",
    "print('Misclassified samples: %d' % (y_test != y_pred).sum())"
   ]
  },
  {
   "cell_type": "code",
   "execution_count": 13,
   "id": "normal-herald",
   "metadata": {},
   "outputs": [
    {
     "data": {
      "text/html": [
       "<div>\n",
       "<style scoped>\n",
       "    .dataframe tbody tr th:only-of-type {\n",
       "        vertical-align: middle;\n",
       "    }\n",
       "\n",
       "    .dataframe tbody tr th {\n",
       "        vertical-align: top;\n",
       "    }\n",
       "\n",
       "    .dataframe thead th {\n",
       "        text-align: right;\n",
       "    }\n",
       "</style>\n",
       "<table border=\"1\" class=\"dataframe\">\n",
       "  <thead>\n",
       "    <tr style=\"text-align: right;\">\n",
       "      <th></th>\n",
       "      <th>Model</th>\n",
       "      <th>Accuracy Score</th>\n",
       "      <th>F1 Score</th>\n",
       "    </tr>\n",
       "  </thead>\n",
       "  <tbody>\n",
       "    <tr>\n",
       "      <th>4</th>\n",
       "      <td>Gradient Boosting Classifier</td>\n",
       "      <td>0.624179</td>\n",
       "      <td>0.444385</td>\n",
       "    </tr>\n",
       "    <tr>\n",
       "      <th>1</th>\n",
       "      <td>Logistic Regression</td>\n",
       "      <td>0.620310</td>\n",
       "      <td>0.446644</td>\n",
       "    </tr>\n",
       "    <tr>\n",
       "      <th>3</th>\n",
       "      <td>Decision Tree</td>\n",
       "      <td>0.616019</td>\n",
       "      <td>0.433822</td>\n",
       "    </tr>\n",
       "    <tr>\n",
       "      <th>2</th>\n",
       "      <td>Random Forest</td>\n",
       "      <td>0.615938</td>\n",
       "      <td>0.440189</td>\n",
       "    </tr>\n",
       "    <tr>\n",
       "      <th>0</th>\n",
       "      <td>KNN</td>\n",
       "      <td>0.566734</td>\n",
       "      <td>0.490172</td>\n",
       "    </tr>\n",
       "  </tbody>\n",
       "</table>\n",
       "</div>"
      ],
      "text/plain": [
       "                          Model  Accuracy Score  F1 Score\n",
       "4  Gradient Boosting Classifier        0.624179  0.444385\n",
       "1           Logistic Regression        0.620310  0.446644\n",
       "3                 Decision Tree        0.616019  0.433822\n",
       "2                 Random Forest        0.615938  0.440189\n",
       "0                           KNN        0.566734  0.490172"
      ]
     },
     "execution_count": 13,
     "metadata": {},
     "output_type": "execute_result"
    }
   ],
   "source": [
    "models = pd.DataFrame({\n",
    "    'Model': ['KNN', 'Logistic Regression', \n",
    "              'Random Forest', 'Decision Tree', 'Gradient Boosting Classifier'],\n",
    "    'Accuracy Score': [knn, acc_logreg, rf, dt, gb],\n",
    "    'F1 Score': [knn2, lr2, rf2, dt2, gb2]})\n",
    "models.sort_values(by='Accuracy Score', ascending=False)"
   ]
  }
 ],
 "metadata": {
  "kernelspec": {
   "display_name": "Python 3",
   "language": "python",
   "name": "python3"
  },
  "language_info": {
   "codemirror_mode": {
    "name": "ipython",
    "version": 3
   },
   "file_extension": ".py",
   "mimetype": "text/x-python",
   "name": "python",
   "nbconvert_exporter": "python",
   "pygments_lexer": "ipython3",
   "version": "3.9.4"
  }
 },
 "nbformat": 4,
 "nbformat_minor": 5
}
