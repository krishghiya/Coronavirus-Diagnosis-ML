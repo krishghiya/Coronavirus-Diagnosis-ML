{
  "nbformat": 4,
  "nbformat_minor": 0,
  "metadata": {
    "colab": {
      "name": "Model.ipynb",
      "provenance": [],
      "collapsed_sections": [],
      "authorship_tag": "ABX9TyOpjCIZ3RUqwQM76yk66lJ6",
      "include_colab_link": true
    },
    "kernelspec": {
      "name": "python3",
      "display_name": "Python 3"
    }
  },
  "cells": [
    {
      "cell_type": "markdown",
      "metadata": {
        "id": "view-in-github",
        "colab_type": "text"
      },
      "source": [
        "<a href=\"https://colab.research.google.com/github/krishghiya/Coronavirus-Diagnosis-ML/blob/master/Model.ipynb\" target=\"_parent\"><img src=\"https://colab.research.google.com/assets/colab-badge.svg\" alt=\"Open In Colab\"/></a>"
      ]
    },
    {
      "cell_type": "code",
      "metadata": {
        "colab": {
          "base_uri": "https://localhost:8080/"
        },
        "id": "Luh9Q6J20Bl0",
        "outputId": "ed884afa-3d6b-4c56-dcc4-7d0e870efec5"
      },
      "source": [
        "import tensorflow as tf\r\n",
        "from tensorflow import keras\r\n",
        "import matplotlib.pyplot as plt\r\n",
        "import numpy as np\r\n",
        "import pandas as pd\r\n",
        "import os\r\n",
        "\r\n",
        "os.environ['KAGGLE_USERNAME'] = 'sunstorm7'\r\n",
        "os.environ['KAGGLE_KEY'] = 'b893e1f97505b1dcc3ff84703893e950'\r\n",
        "\r\n",
        "# !kaggle datasets download -d arashnic/covid19-case-surveillance-public-use-dataset\r\n",
        "# !kaggle datasets download -d tanmoyx/covid19-patient-precondition-dataset --unzip\r\n",
        "# !kaggle datasets download -d cprete/covid19-open-datasets-for-brazil --unzip\r\n",
        "# !kaggle datasets download -d nhntran/vietnam-covid19-patient-dataset --unzip\r\n",
        "\r\n",
        "# county_data = keras.utils.get_file('us-counties.csv', 'https://github.com/nytimes/covid-19-data/raw/master/live/us-counties.csv')\r\n",
        "# !kaggle datasets download -d rupsikaushik/covid19-patientlevel-data\r\n",
        "# !kaggle datasets download -d shirmani/characteristics-corona-patients --unzip\r\n",
        "!kaggle datasets download -d hemanthhari/symptoms-and-covid-presence --unzip"
      ],
      "execution_count": 33,
      "outputs": [
        {
          "output_type": "stream",
          "text": [
            "Downloading symptoms-and-covid-presence.zip to /content\n",
            "\r  0% 0.00/25.8k [00:00<?, ?B/s]\n",
            "\r100% 25.8k/25.8k [00:00<00:00, 21.4MB/s]\n"
          ],
          "name": "stdout"
        }
      ]
    },
    {
      "cell_type": "code",
      "metadata": {
        "colab": {
          "base_uri": "https://localhost:8080/"
        },
        "id": "AdCB4e5Thwms",
        "outputId": "c533fd4d-233e-4fc8-c72f-7162039acb93"
      },
      "source": [
        "ls"
      ],
      "execution_count": 34,
      "outputs": [
        {
          "output_type": "stream",
          "text": [
            "'Covid Dataset.csv'   \u001b[0m\u001b[01;34msample_data\u001b[0m/\n"
          ],
          "name": "stdout"
        }
      ]
    },
    {
      "cell_type": "code",
      "metadata": {
        "id": "kk5CfYWaXHhp"
      },
      "source": [
        "# us_case_df = pd.read_csv('covid19-case-surveillance-public-use-dataset.zip') \r\n",
        "# mexico_df = pd.read_csv('covid.csv')\r\n",
        "# brazil_sars_df = pd.read_csv('Flu-Like Syndrome/dados-nacional_01_06.csv', sep=\";\", error_bad_lines=False)\r\n",
        "# brazil_sars_df = pd.read_csv('SARS_01-06/SRAG_01-06.csv')\r\n",
        "# vietnam_df = pd.read_csv('Vietnam_COVID-19_patient_data_May10_2020.csv')\r\n",
        "\r\n",
        "# county_df = pd.read_csv(county_data)\r\n",
        "# china_df = pd.read_csv('covid19-patientlevel-data.zip')\r\n",
        "# multi_loc_df = pd.read_csv('Characteristics_Corona_patients_version_6 -06122020.csv')\r\n",
        "who_df = pd.read_csv('Covid Dataset.csv')"
      ],
      "execution_count": 35,
      "outputs": []
    },
    {
      "cell_type": "code",
      "metadata": {
        "id": "tUZoK2kEmjyQ"
      },
      "source": [
        "# mexico_df = mexico_df[['sex', 'pneumonia', 'age', 'pregnancy', 'diabetes', 'copd', 'asthma', 'hypertension', 'other_disease', 'cardiovascular', 'obesity', \r\n",
        "#                        'renal_chronic', 'tobacco', 'contact_other_covid', 'covid_res']]\r\n",
        "# us_case_df = us_case_df[['sex', 'age_group', 'Race and ethnicity (combined)']].dropna()\r\n",
        "# vietnam_df = vietnam_df[['Gender', 'Age', 'Detail Symptoms When Confirmed (clean up)']]"
      ],
      "execution_count": 36,
      "outputs": []
    },
    {
      "cell_type": "code",
      "metadata": {
        "id": "q6fQTmSDiFHS"
      },
      "source": [
        "# china_df = china_df[['gender', 'age', 'symptom']]\r\n",
        "# china_df = china_df.loc[china_df['symptom'].notna()]"
      ],
      "execution_count": 37,
      "outputs": []
    },
    {
      "cell_type": "code",
      "metadata": {
        "id": "z_N_LnA5iB8z"
      },
      "source": [
        "# county_df = county_df[['county', 'state', 'cases', 'deaths']]"
      ],
      "execution_count": 38,
      "outputs": []
    },
    {
      "cell_type": "code",
      "metadata": {
        "id": "9FDugM15iKBX"
      },
      "source": [
        "who_df = who_df.iloc[:, np.r_[:13, 20]]\r\n",
        "who_df = who_df == 'Yes'\r\n",
        "# who_df = who_df.where(who_df, 0).where(who_df != True, 1)\r\n",
        "# who_df = who_df.astype('int')"
      ],
      "execution_count": 39,
      "outputs": []
    },
    {
      "cell_type": "code",
      "metadata": {
        "id": "Ya6vI2RLiDqe"
      },
      "source": [
        "# multi_loc_df = multi_loc_df.iloc[:, np.r_[25, 21, 23, 22, 26, 33, 37, 27, 35, 30, 31, 29, 34]]\r\n",
        "# multi_loc_df['COVID-19'] = np.ones(len(multi_loc_df))\r\n",
        "# multi_loc_df.columns = who_df.columns"
      ],
      "execution_count": 8,
      "outputs": []
    },
    {
      "cell_type": "code",
      "metadata": {
        "id": "F5C8y6j9wJjP"
      },
      "source": [
        "# china_df.info()"
      ],
      "execution_count": 9,
      "outputs": []
    },
    {
      "cell_type": "code",
      "metadata": {
        "id": "T8nuwiU6ofBP"
      },
      "source": [
        "# multi_loc_df.info()"
      ],
      "execution_count": 10,
      "outputs": []
    },
    {
      "cell_type": "code",
      "metadata": {
        "colab": {
          "base_uri": "https://localhost:8080/"
        },
        "id": "W6EM4Lxboox6",
        "outputId": "d50d316d-ea68-42ee-fa8f-52c8871e54ee"
      },
      "source": [
        "who_df.info()"
      ],
      "execution_count": 40,
      "outputs": [
        {
          "output_type": "stream",
          "text": [
            "<class 'pandas.core.frame.DataFrame'>\n",
            "RangeIndex: 5434 entries, 0 to 5433\n",
            "Data columns (total 14 columns):\n",
            " #   Column                Non-Null Count  Dtype\n",
            "---  ------                --------------  -----\n",
            " 0   Breathing Problem     5434 non-null   bool \n",
            " 1   Fever                 5434 non-null   bool \n",
            " 2   Dry Cough             5434 non-null   bool \n",
            " 3   Sore throat           5434 non-null   bool \n",
            " 4   Running Nose          5434 non-null   bool \n",
            " 5   Asthma                5434 non-null   bool \n",
            " 6   Chronic Lung Disease  5434 non-null   bool \n",
            " 7   Headache              5434 non-null   bool \n",
            " 8   Heart Disease         5434 non-null   bool \n",
            " 9   Diabetes              5434 non-null   bool \n",
            " 10  Hyper Tension         5434 non-null   bool \n",
            " 11  Fatigue               5434 non-null   bool \n",
            " 12  Gastrointestinal      5434 non-null   bool \n",
            " 13  COVID-19              5434 non-null   bool \n",
            "dtypes: bool(14)\n",
            "memory usage: 74.4 KB\n"
          ],
          "name": "stdout"
        }
      ]
    },
    {
      "cell_type": "code",
      "metadata": {
        "id": "EbhtmwjFYglI"
      },
      "source": [
        "# multi_loc_df.isnull().sum() * 100 / len(multi_loc_df)"
      ],
      "execution_count": 12,
      "outputs": []
    },
    {
      "cell_type": "code",
      "metadata": {
        "id": "yn5mvGgcbMMF"
      },
      "source": [
        "from sklearn.model_selection import train_test_split\r\n",
        "\r\n",
        "X_train, X_test, y_train, y_test = train_test_split(who_df.drop('COVID-19', axis=1), who_df['COVID-19'], test_size=0.1, random_state=42)"
      ],
      "execution_count": 41,
      "outputs": []
    },
    {
      "cell_type": "code",
      "metadata": {
        "colab": {
          "base_uri": "https://localhost:8080/"
        },
        "id": "D6VhkmPrb7Vb",
        "outputId": "15b34b71-24f7-477d-df13-67ec2a6f671e"
      },
      "source": [
        "from sklearn.ensemble import RandomForestClassifier\r\n",
        "\r\n",
        "ran_clf = RandomForestClassifier(n_estimators=100, random_state=42)\r\n",
        "ran_clf.fit(X_train, y_train)"
      ],
      "execution_count": 50,
      "outputs": [
        {
          "output_type": "execute_result",
          "data": {
            "text/plain": [
              "RandomForestClassifier(bootstrap=True, ccp_alpha=0.0, class_weight=None,\n",
              "                       criterion='gini', max_depth=None, max_features='auto',\n",
              "                       max_leaf_nodes=None, max_samples=None,\n",
              "                       min_impurity_decrease=0.0, min_impurity_split=None,\n",
              "                       min_samples_leaf=1, min_samples_split=2,\n",
              "                       min_weight_fraction_leaf=0.0, n_estimators=100,\n",
              "                       n_jobs=None, oob_score=False, random_state=42, verbose=0,\n",
              "                       warm_start=False)"
            ]
          },
          "metadata": {
            "tags": []
          },
          "execution_count": 50
        }
      ]
    },
    {
      "cell_type": "code",
      "metadata": {
        "colab": {
          "base_uri": "https://localhost:8080/"
        },
        "id": "HBz7RJzSce-O",
        "outputId": "a0720d23-d280-4faf-b486-27e99bbef74e"
      },
      "source": [
        "from sklearn.metrics import accuracy_score, f1_score\r\n",
        "\r\n",
        "y_pred = ran_clf.predict(X_test)\r\n",
        "print('Accuracy score:', accuracy_score(y_test, y_pred))\r\n",
        "print('F1 score:', f1_score(y_test, y_pred))"
      ],
      "execution_count": 51,
      "outputs": [
        {
          "output_type": "stream",
          "text": [
            "Accuracy score: 0.9852941176470589\n",
            "F1 score: 0.9906542056074767\n"
          ],
          "name": "stdout"
        }
      ]
    },
    {
      "cell_type": "code",
      "metadata": {
        "id": "F0Ep3DK-epAy"
      },
      "source": [
        ""
      ],
      "execution_count": null,
      "outputs": []
    }
  ]
}