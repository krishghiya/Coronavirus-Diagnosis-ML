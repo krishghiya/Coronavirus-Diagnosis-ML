{
  "nbformat": 4,
  "nbformat_minor": 0,
  "metadata": {
    "colab": {
      "name": "Model.ipynb",
      "provenance": [],
      "authorship_tag": "ABX9TyMc99ErN6g/PA+6RijIWkeN",
      "include_colab_link": true
    },
    "kernelspec": {
      "name": "python3",
      "display_name": "Python 3"
    }
  },
  "cells": [
    {
      "cell_type": "markdown",
      "metadata": {
        "id": "view-in-github",
        "colab_type": "text"
      },
      "source": [
        "<a href=\"https://colab.research.google.com/github/krishghiya/Coronavirus-Diagnosis-ML/blob/master/Model.ipynb\" target=\"_parent\"><img src=\"https://colab.research.google.com/assets/colab-badge.svg\" alt=\"Open In Colab\"/></a>"
      ]
    },
    {
      "cell_type": "code",
      "metadata": {
        "colab": {
          "base_uri": "https://localhost:8080/"
        },
        "id": "Luh9Q6J20Bl0",
        "outputId": "e5495762-a51d-4b76-fa6c-20032330b3b7"
      },
      "source": [
        "import tensorflow as tf\r\n",
        "from tensorflow import keras\r\n",
        "import matplotlib.pyplot as plt\r\n",
        "import numpy as np\r\n",
        "import pandas as pd\r\n",
        "import os\r\n",
        "\r\n",
        "os.environ['KAGGLE_USERNAME'] = 'sunstorm7'\r\n",
        "os.environ['KAGGLE_KEY'] = 'b893e1f97505b1dcc3ff84703893e950'\r\n",
        "\r\n",
        "# !kaggle datasets download -d arashnic/covid19-case-surveillance-public-use-dataset\r\n",
        "# !kaggle datasets download -d tanmoyx/covid19-patient-precondition-dataset --unzip\r\n",
        "# !kaggle datasets download -d cprete/covid19-open-datasets-for-brazil --unzip\r\n",
        "# !kaggle datasets download -d nhntran/vietnam-covid19-patient-dataset --unzip\r\n",
        "\r\n",
        "county_data = keras.utils.get_file('us-counties.csv', 'https://github.com/nytimes/covid-19-data/raw/master/live/us-counties.csv')\r\n",
        "!kaggle datasets download -d rupsikaushik/covid19-patientlevel-data\r\n",
        "!kaggle datasets download -d shirmani/characteristics-corona-patients --unzip"
      ],
      "execution_count": null,
      "outputs": [
        {
          "output_type": "stream",
          "text": [
            "Downloading characteristics-corona-patients.zip to /content\n",
            "\r  0% 0.00/30.9M [00:00<?, ?B/s]\r 49% 15.0M/30.9M [00:00<00:00, 157MB/s]\n",
            "\r100% 30.9M/30.9M [00:00<00:00, 151MB/s]\n"
          ],
          "name": "stdout"
        }
      ]
    },
    {
      "cell_type": "code",
      "metadata": {
        "id": "kk5CfYWaXHhp"
      },
      "source": [
        "# county_df = pd.read_csv(county_data)\r\n",
        "# us_case_df = pd.read_csv('covid19-case-surveillance-public-use-dataset.zip') \r\n",
        "# mexico_df = pd.read_csv('covid.csv')\r\n",
        "# brazil_sars_df = pd.read_csv('Flu-Like Syndrome/dados-nacional_01_06.csv', sep=\";\", error_bad_lines=False)\r\n",
        "# brazil_sars_df = pd.read_csv('SARS_01-06/SRAG_01-06.csv')\r\n",
        "# china_df = pd.read_csv('covid19-patientlevel-data.zip')\r\n",
        "# vietnam_df = pd.read_csv('Vietnam_COVID-19_patient_data_May10_2020.csv')\r\n",
        "multi_loc_df = pd.read_csv('Characteristics_Corona_patients_version_6 -06122020.csv')"
      ],
      "execution_count": null,
      "outputs": []
    },
    {
      "cell_type": "code",
      "metadata": {
        "id": "tUZoK2kEmjyQ"
      },
      "source": [
        "# mexico_df = mexico_df[['sex', 'pneumonia', 'age', 'pregnancy', 'diabetes', 'copd', 'asthma', 'hypertension', 'other_disease', 'cardiovascular', 'obesity', \r\n",
        "#                        'renal_chronic', 'tobacco', 'contact_other_covid', 'covid_res']]\r\n",
        "\r\n",
        "# us_case_df = us_case_df[['sex', 'age_group', 'Race and ethnicity (combined)']].dropna()\r\n",
        "\r\n",
        "# vietnam_df = vietnam_df[['Gender', 'Age', 'Detail Symptoms When Confirmed (clean up)']]\r\n",
        "\r\n",
        "china_df = china_df[['gender', 'age', 'symptom']]\r\n",
        "\r\n",
        "county_df = county_df[['county', 'state', 'cases', 'deaths']]\r\n",
        "\r\n",
        "multi_loc_df = multi_loc_df.iloc[:, np.r_[0, 7, 8, 21:38]]"
      ],
      "execution_count": null,
      "outputs": []
    },
    {
      "cell_type": "code",
      "metadata": {
        "colab": {
          "base_uri": "https://localhost:8080/"
        },
        "id": "_9FQ33qJgXYz",
        "outputId": "997b6dca-a10d-4456-e95f-07c26f4ff12d"
      },
      "source": [
        "multi_loc_df.info()"
      ],
      "execution_count": null,
      "outputs": [
        {
          "output_type": "stream",
          "text": [
            "<class 'pandas.core.frame.DataFrame'>\n",
            "RangeIndex: 4535323 entries, 0 to 4535322\n",
            "Data columns (total 20 columns):\n",
            " #   Column                                             Dtype  \n",
            "---  ------                                             -----  \n",
            " 0   age                                                float64\n",
            " 1   sex                                                float64\n",
            " 2   smoking                                            float64\n",
            " 3   symptoms_fever                                     float64\n",
            " 4   symptoms_sore_throat                               float64\n",
            " 5   symptoms_cough                                     float64\n",
            " 6   symptoms_pneumonia                                 float64\n",
            " 7   symptoms_breathing_difficulty                      float64\n",
            " 8   symptoms_rhinorrhoea                               float64\n",
            " 9   symptoms_headache                                  float64\n",
            " 10  symptoms_myalgia                                   float64\n",
            " 11  symptoms_fatigue                                   float64\n",
            " 12  background_diseases_diabetes                       float64\n",
            " 13  background_diseases_hypertension                   float64\n",
            " 14  background_diseases_kidney_failure                 float64\n",
            " 15  background_diseases_asthma                         float64\n",
            " 16  background_diseases_cardiovascular                 float64\n",
            " 17  background_diseases_obesity                        float64\n",
            " 18  background_diseases_immunosuppression              float64\n",
            " 19  background_diseases_chronic_obstructive_pulmonary  float64\n",
            "dtypes: float64(20)\n",
            "memory usage: 692.0 MB\n"
          ],
          "name": "stdout"
        }
      ]
    },
    {
      "cell_type": "code",
      "metadata": {
        "colab": {
          "base_uri": "https://localhost:8080/"
        },
        "id": "JrDWSW0iSsWJ",
        "outputId": "0b964461-0b4d-4f65-c33f-579f877fd2bb"
      },
      "source": [
        "ls -a"
      ],
      "execution_count": null,
      "outputs": [
        {
          "output_type": "stream",
          "text": [
            " \u001b[0m\u001b[01;34m.\u001b[0m/\n",
            " \u001b[01;34m..\u001b[0m/\n",
            "'Characteristics_Corona_patients version 5 06122020.csv'\n",
            "'Characteristics_Corona_patients_version_6 -06122020.csv'\n",
            " \u001b[01;34m.config\u001b[0m/\n",
            " covid19-patientlevel-data.zip\n",
            " \u001b[01;34msample_data\u001b[0m/\n"
          ],
          "name": "stdout"
        }
      ]
    },
    {
      "cell_type": "code",
      "metadata": {
        "id": "F5C8y6j9wJjP"
      },
      "source": [
        "import re\r\n",
        "pattern = re.compile(\"[1-9] year\")\r\n",
        "pattern.sea('2-3 years of experience')"
      ],
      "execution_count": null,
      "outputs": []
    }
  ]
}