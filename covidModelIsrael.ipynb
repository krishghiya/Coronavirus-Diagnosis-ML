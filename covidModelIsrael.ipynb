{
 "cells": [
  {
   "cell_type": "code",
   "execution_count": 1,
   "id": "sustainable-hundred",
   "metadata": {},
   "outputs": [],
   "source": [
    "import matplotlib.pyplot as plt\n",
    "import numpy as np\n",
    "import pandas as pd\n",
    "import os\n",
    "import seaborn as sns\n",
    "from sklearn.model_selection import GridSearchCV, RandomizedSearchCV\n",
    "from sklearn.metrics import classification_report, confusion_matrix\n",
    "from sklearn.metrics import accuracy_score, f1_score, precision_score, recall_score, roc_auc_score\n",
    "from tensorflow import keras"
   ]
  },
  {
   "cell_type": "code",
   "execution_count": 2,
   "id": "treated-plaintiff",
   "metadata": {},
   "outputs": [
    {
     "name": "stderr",
     "output_type": "stream",
     "text": [
      "/usr/local/lib/python3.9/site-packages/IPython/core/interactiveshell.py:3165: DtypeWarning: Columns (7) have mixed types.Specify dtype option on import or set low_memory=False.\n",
      "  has_raised = await self.run_ast_nodes(code_ast.body, cell_name,\n"
     ]
    }
   ],
   "source": [
    "israel_df = pd.read_csv('israel.csv')"
   ]
  },
  {
   "cell_type": "code",
   "execution_count": 3,
   "id": "compact-village",
   "metadata": {},
   "outputs": [],
   "source": [
    "israel_df.drop(labels=['test_date', 'test_indication'], inplace=True, axis=1)\n",
    "israel_df['age_60_and_above'] = israel_df['age_60_and_above'] == \"Yes\"\n",
    "israel_df['corona_result'] = israel_df['corona_result'] == \"positive\"\n",
    "israel_df['Male'] = israel_df['gender'] == \"male\"\n",
    "del israel_df['gender']\n",
    "israel_df.rename(columns={'sore_throat': 'Sore Throat',\n",
    "                          'head_ache': 'Headache',\n",
    "                          'age_60_and_above': 'Age above 60',\n",
    "                          'shortness_of_breath': 'Breathing difficulty'}, \n",
    "                 inplace=True)\n",
    "israel_df.columns = [s.capitalize() for s in israel_df.columns]\n",
    "israel_df.rename(columns={'Corona_result': 'COVID-19'}, inplace=True)"
   ]
  },
  {
   "cell_type": "code",
   "execution_count": 4,
   "id": "effective-encyclopedia",
   "metadata": {},
   "outputs": [
    {
     "name": "stdout",
     "output_type": "stream",
     "text": [
      "<class 'pandas.core.frame.DataFrame'>\n",
      "RangeIndex: 2742596 entries, 0 to 2742595\n",
      "Data columns (total 8 columns):\n",
      " #   Column                Dtype\n",
      "---  ------                -----\n",
      " 0   Cough                 int64\n",
      " 1   Fever                 int64\n",
      " 2   Sore throat           int64\n",
      " 3   Breathing difficulty  int64\n",
      " 4   Headache              int64\n",
      " 5   COVID-19              bool \n",
      " 6   Age above 60          bool \n",
      " 7   Male                  bool \n",
      "dtypes: bool(3), int64(5)\n",
      "memory usage: 112.5 MB\n"
     ]
    }
   ],
   "source": [
    "israel_df.info()"
   ]
  },
  {
   "cell_type": "code",
   "execution_count": 5,
   "id": "vanilla-exhaust",
   "metadata": {},
   "outputs": [],
   "source": [
    "def train_and_evaluate(clf, df, train=True):\n",
    "  X, y = israel_df.drop(['COVID-19'], axis=1), israel_df['COVID-19']\n",
    "  if train:\n",
    "    clf.fit(X, y)\n",
    "  y_pred = clf.predict(X)\n",
    "  print('Precision Score: {}%'.format(round(precision_score(y_pred, y) * 100, 2)))\n",
    "  print('Recall Score: {}%'.format(round(recall_score(y_pred, y) * 100, 2)))"
   ]
  },
  {
   "cell_type": "code",
   "execution_count": 6,
   "id": "prepared-corps",
   "metadata": {},
   "outputs": [
    {
     "name": "stdout",
     "output_type": "stream",
     "text": [
      "Precision Score: 31.31%\n",
      "Recall Score: 65.57%\n"
     ]
    }
   ],
   "source": [
    "# Random forest\n",
    "from sklearn.ensemble import RandomForestClassifier\n",
    "israel_rf = RandomForestClassifier(random_state=42, n_jobs=-1, n_estimators=100)\n",
    "train_and_evaluate(israel_rf, israel_df)"
   ]
  },
  {
   "cell_type": "code",
   "execution_count": 7,
   "id": "thirty-instrumentation",
   "metadata": {},
   "outputs": [
    {
     "name": "stdout",
     "output_type": "stream",
     "text": [
      "Precision Score: 15.49%\n",
      "Recall Score: 69.08%\n"
     ]
    }
   ],
   "source": [
    "# AdaBoost\n",
    "from sklearn.ensemble import AdaBoostClassifier\n",
    "israel_rf = AdaBoostClassifier(n_estimators=100)\n",
    "train_and_evaluate(israel_rf, israel_df)"
   ]
  },
  {
   "cell_type": "code",
   "execution_count": 9,
   "id": "regional-premiere",
   "metadata": {},
   "outputs": [
    {
     "name": "stdout",
     "output_type": "stream",
     "text": [
      "Precision Score: 15.89%\n",
      "Recall Score: 68.95%\n"
     ]
    }
   ],
   "source": [
    "# Logistic Regression\n",
    "from sklearn.linear_model import LogisticRegression\n",
    "israel_rf = LogisticRegression(solver='lbfgs', max_iter=300)\n",
    "train_and_evaluate(israel_rf, israel_df)"
   ]
  },
  {
   "cell_type": "code",
   "execution_count": 10,
   "id": "fatty-vacuum",
   "metadata": {},
   "outputs": [
    {
     "name": "stdout",
     "output_type": "stream",
     "text": [
      "Precision Score: 27.21%\n",
      "Recall Score: 68.44%\n"
     ]
    }
   ],
   "source": [
    "# MLPClassifier\n",
    "from sklearn.neural_network import MLPClassifier\n",
    "israel_rf = MLPClassifier(random_state=42)\n",
    "train_and_evaluate(israel_rf, israel_df)"
   ]
  }
 ],
 "metadata": {
  "kernelspec": {
   "display_name": "Python 3",
   "language": "python",
   "name": "python3"
  },
  "language_info": {
   "codemirror_mode": {
    "name": "ipython",
    "version": 3
   },
   "file_extension": ".py",
   "mimetype": "text/x-python",
   "name": "python",
   "nbconvert_exporter": "python",
   "pygments_lexer": "ipython3",
   "version": "3.9.4"
  }
 },
 "nbformat": 4,
 "nbformat_minor": 5
}
