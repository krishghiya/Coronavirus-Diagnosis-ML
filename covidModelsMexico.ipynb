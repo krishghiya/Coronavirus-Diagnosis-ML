{
 "cells": [
  {
   "cell_type": "code",
   "execution_count": 1,
   "id": "chinese-season",
   "metadata": {},
   "outputs": [],
   "source": [
    "import matplotlib.pyplot as plt\n",
    "import numpy as np\n",
    "import pandas as pd\n",
    "import os\n",
    "import seaborn as sns\n",
    "from sklearn.model_selection import GridSearchCV, RandomizedSearchCV\n",
    "from sklearn.metrics import classification_report, confusion_matrix\n",
    "from sklearn.metrics import accuracy_score, f1_score, precision_score, recall_score, roc_auc_score\n",
    "from tensorflow import keras\n",
    "from xgboost import XGBClassifier"
   ]
  },
  {
   "cell_type": "code",
   "execution_count": 2,
   "id": "voluntary-hello",
   "metadata": {},
   "outputs": [],
   "source": [
    "mexico_df = pd.read_csv('covid.csv')"
   ]
  },
  {
   "cell_type": "code",
   "execution_count": 3,
   "id": "expressed-commonwealth",
   "metadata": {},
   "outputs": [],
   "source": [
    "cols = ['sex', 'age', 'pneumonia', 'pregnancy', 'diabetes', 'copd', 'asthma', 'hypertension', 'inmsupr', 'other_disease', \n",
    "                       'cardiovascular', 'obesity', 'renal_chronic', 'tobacco', 'covid_res']\n",
    "mexico_df = mexico_df[cols]\n",
    "cols.remove('sex')\n",
    "cols.remove('age')\n",
    "mexico_df[cols] = mexico_df[mexico_df[cols] < 3][cols]\n",
    "mexico_df['pregnancy'] = mexico_df['pregnancy'].fillna(1)\n",
    "mexico_df.dropna(inplace=True)\n",
    "mexico_df[cols] = mexico_df[cols] == 1\n",
    "mexico_df['male'] = mexico_df['sex'] == 2\n",
    "del mexico_df['sex']\n",
    "mexico_df.rename(columns={'inmsupr': 'Immunosuppression',\n",
    "                          'renal_chronic': 'Kidney Disease',\n",
    "                          'copd': \"Breathing difficulty\",\n",
    "                          'other_disease': 'Other diseases',\n",
    "                          'pregnancy': 'Pregnant'}, inplace=True)\n",
    "mexico_df.columns = [s.capitalize() for s in mexico_df.columns]\n",
    "mexico_df.rename(columns={'Covid_res': 'COVID-19'}, inplace=True)"
   ]
  },
  {
   "cell_type": "code",
   "execution_count": 4,
   "id": "capital-permit",
   "metadata": {},
   "outputs": [
    {
     "name": "stdout",
     "output_type": "stream",
     "text": [
      "<class 'pandas.core.frame.DataFrame'>\n",
      "Int64Index: 496291 entries, 0 to 499691\n",
      "Data columns (total 15 columns):\n",
      " #   Column                Non-Null Count   Dtype\n",
      "---  ------                --------------   -----\n",
      " 0   Age                   496291 non-null  int64\n",
      " 1   Pneumonia             496291 non-null  bool \n",
      " 2   Pregnant              496291 non-null  bool \n",
      " 3   Diabetes              496291 non-null  bool \n",
      " 4   Breathing difficulty  496291 non-null  bool \n",
      " 5   Asthma                496291 non-null  bool \n",
      " 6   Hypertension          496291 non-null  bool \n",
      " 7   Immunosuppression     496291 non-null  bool \n",
      " 8   Other diseases        496291 non-null  bool \n",
      " 9   Cardiovascular        496291 non-null  bool \n",
      " 10  Obesity               496291 non-null  bool \n",
      " 11  Kidney disease        496291 non-null  bool \n",
      " 12  Tobacco               496291 non-null  bool \n",
      " 13  COVID-19              496291 non-null  bool \n",
      " 14  Male                  496291 non-null  bool \n",
      "dtypes: bool(14), int64(1)\n",
      "memory usage: 14.2 MB\n"
     ]
    }
   ],
   "source": [
    "mexico_df.info()"
   ]
  },
  {
   "cell_type": "code",
   "execution_count": 5,
   "id": "reserved-annual",
   "metadata": {},
   "outputs": [],
   "source": [
    "def train_and_evaluate(clf, df, train=True):\n",
    "  X, y = mexico_df.drop(['COVID-19'], axis=1), mexico_df['COVID-19']\n",
    "  if train:\n",
    "    clf.fit(X, y)\n",
    "  y_pred = clf.predict(X)\n",
    "  print('Precision Score: {}%'.format(round(precision_score(y_pred, y) * 100, 2)))\n",
    "  print('Recall Score: {}%'.format(round(recall_score(y_pred, y) * 100, 2)))"
   ]
  },
  {
   "cell_type": "code",
   "execution_count": 32,
   "id": "after-basis",
   "metadata": {},
   "outputs": [
    {
     "name": "stdout",
     "output_type": "stream",
     "text": [
      "Precision Score: 37.33%\n",
      "Recall Score: 67.93%\n"
     ]
    }
   ],
   "source": [
    "# Random Forest\n",
    "from sklearn.ensemble import RandomForestClassifier\n",
    "mexico_rf = RandomForestClassifier(random_state=42, n_jobs=-1, n_estimators=125)\n",
    "train_and_evaluate(mexico_rf, mexico_df)"
   ]
  },
  {
   "cell_type": "code",
   "execution_count": 9,
   "id": "stopped-settlement",
   "metadata": {},
   "outputs": [
    {
     "name": "stdout",
     "output_type": "stream",
     "text": [
      "Precision Score: 54.61%\n",
      "Recall Score: 50.47%\n"
     ]
    }
   ],
   "source": [
    "# KNN\n",
    "from sklearn.neighbors import KNeighborsClassifier\n",
    "mexico_rf = KNeighborsClassifier(n_neighbors = 3)\n",
    "train_and_evaluate(mexico_rf, mexico_df)"
   ]
  },
  {
   "cell_type": "code",
   "execution_count": 30,
   "id": "acceptable-helen",
   "metadata": {
    "scrolled": true
   },
   "outputs": [
    {
     "name": "stdout",
     "output_type": "stream",
     "text": [
      "Precision Score: 34.72%\n",
      "Recall Score: 63.24%\n"
     ]
    }
   ],
   "source": [
    "# AdaBoost\n",
    "from sklearn.ensemble import AdaBoostClassifier\n",
    "mexico_rf = AdaBoostClassifier()\n",
    "train_and_evaluate(mexico_rf, mexico_df)"
   ]
  },
  {
   "cell_type": "code",
   "execution_count": 27,
   "id": "medium-albany",
   "metadata": {},
   "outputs": [
    {
     "name": "stdout",
     "output_type": "stream",
     "text": [
      "Precision Score: 34.39%\n",
      "Recall Score: 63.04%\n"
     ]
    }
   ],
   "source": [
    "# Logistic Regression\n",
    "from sklearn.linear_model import LogisticRegression\n",
    "mexico_rf = LogisticRegression(solver='lbfgs', max_iter=300)\n",
    "train_and_evaluate(mexico_rf, mexico_df)"
   ]
  },
  {
   "cell_type": "code",
   "execution_count": 31,
   "id": "collectible-nickname",
   "metadata": {},
   "outputs": [
    {
     "name": "stdout",
     "output_type": "stream",
     "text": [
      "Precision Score: 30.14%\n",
      "Recall Score: 66.21%\n"
     ]
    }
   ],
   "source": [
    "# MLPClassifier\n",
    "from sklearn.neural_network import MLPClassifier\n",
    "mexico_rf = MLPClassifier(random_state=42)\n",
    "train_and_evaluate(mexico_rf, mexico_df)"
   ]
  }
 ],
 "metadata": {
  "kernelspec": {
   "display_name": "Python 3",
   "language": "python",
   "name": "python3"
  },
  "language_info": {
   "codemirror_mode": {
    "name": "ipython",
    "version": 3
   },
   "file_extension": ".py",
   "mimetype": "text/x-python",
   "name": "python",
   "nbconvert_exporter": "python",
   "pygments_lexer": "ipython3",
   "version": "3.9.4"
  }
 },
 "nbformat": 4,
 "nbformat_minor": 5
}
